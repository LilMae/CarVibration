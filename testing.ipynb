{
 "cells": [
  {
   "cell_type": "code",
   "execution_count": 29,
   "metadata": {},
   "outputs": [],
   "source": [
    "import os\n",
    "import torch\n",
    "import torchvision\n",
    "from torch.utils.data import  DataLoader\n",
    "from dataset import UntrimmedDataset\n",
    "\n",
    "data_root = os.path.join(os.getcwd(), 'Untrimmed_accline')\n",
    "n_fft =64\n",
    "hop_length = int(n_fft/4)\n",
    "device = 'cpu'\n",
    "feature_size = 32\n",
    "\n",
    "squeeze_net = torchvision.models.squeezenet1_1(progress=True).to(device)\n",
    "squeeze_net.classifier = torch.nn.Sequential(\n",
    "    torch.nn.AdaptiveAvgPool2d(output_size=(1,1)),\n",
    "    torch.nn.Flatten(),\n",
    "    torch.nn.Linear(512, feature_size, bias=True))\n",
    "backbone =  squeeze_net\n",
    "\n",
    "dataset = UntrimmedDataset(root_dir=data_root,\n",
    "                               kernel_size=1024,\n",
    "                               stride=256,\n",
    "                               device='cpu',\n",
    "                               n_fft=n_fft,\n",
    "                               hop_length=hop_length)\n",
    "    \n",
    "dataloader = DataLoader(dataset, batch_size=4)"
   ]
  },
  {
   "cell_type": "code",
   "execution_count": 30,
   "metadata": {},
   "outputs": [
    {
     "name": "stdout",
     "output_type": "stream",
     "text": [
      "77\n"
     ]
    }
   ],
   "source": [
    "print(len(dataset))"
   ]
  },
  {
   "cell_type": "code",
   "execution_count": 31,
   "metadata": {},
   "outputs": [
    {
     "name": "stdout",
     "output_type": "stream",
     "text": [
      "stft : torch.Size([4, 3, 61, 64])\n",
      "class_info : tensor([6., 6., 6., 6.], dtype=torch.float64)\n",
      "is_new : tensor([ True, False, False, False])\n"
     ]
    }
   ],
   "source": [
    "\n",
    "for stft, class_info, is_new in dataloader:\n",
    "    print(f'stft : {stft.shape}')\n",
    "    print(f'class_info : {class_info}')\n",
    "    print(f'is_new : {is_new}')\n",
    "    \n",
    "    a_stft = stft[0]\n",
    "    \n",
    "    break"
   ]
  },
  {
   "cell_type": "code",
   "execution_count": 32,
   "metadata": {},
   "outputs": [
    {
     "name": "stdout",
     "output_type": "stream",
     "text": [
      "a_stft.shape : torch.Size([3, 61, 64])\n"
     ]
    },
    {
     "name": "stderr",
     "output_type": "stream",
     "text": [
      "/Users/lilmae/anaconda3/envs/vibration/lib/python3.8/site-packages/matplotlib/cm.py:478: RuntimeWarning: invalid value encountered in cast\n",
      "  xx = (xx * 255).astype(np.uint8)\n"
     ]
    },
    {
     "data": {
      "image/png": "[encoded data removed]",
      "text/plain": [
       "<Figure size 600x600 with 1 Axes>"
      ]
     },
     "metadata": {},
     "output_type": "display_data"
    }
   ],
   "source": [
    "import matplotlib.pyplot as plt\n",
    "print(f'a_stft.shape : {a_stft.shape}')\n",
    "\n",
    "tensor_rgb = a_stft.permute(1, 2, 0)\n",
    "\n",
    "plt.figure(figsize=(6, 6))\n",
    "plt.imshow(tensor_rgb)\n",
    "plt.axis('off')\n",
    "plt.show()"
   ]
  },
  {
   "cell_type": "code",
   "execution_count": null,
   "metadata": {},
   "outputs": [],
   "source": []
  }
 ],
 "metadata": {
  "kernelspec": {
   "display_name": "vibration",
   "language": "python",
   "name": "python3"
  },
  "language_info": {
   "codemirror_mode": {
    "name": "ipython",
    "version": 3
   },
   "file_extension": ".py",
   "mimetype": "text/x-python",
   "name": "python",
   "nbconvert_exporter": "python",
   "pygments_lexer": "ipython3",
   "version": "3.8.16"
  }
 },
 "nbformat": 4,
 "nbformat_minor": 2
}
